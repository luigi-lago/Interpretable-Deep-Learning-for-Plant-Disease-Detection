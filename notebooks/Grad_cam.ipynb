{
 "cells": [
  {
   "cell_type": "markdown",
   "metadata": {},
   "source": [
    "# Grad-CAM application in ResTS and EfficientNetB0"
   ]
  },
  {
   "cell_type": "code",
   "execution_count": null,
   "metadata": {},
   "outputs": [],
   "source": [
    "# Importações principais\n",
    "import tensorflow as tf\n",
    "from tensorflow.keras.preprocessing.image import ImageDataGenerator\n",
    "import numpy as np\n",
    "import matplotlib.pyplot as plt\n",
    "import cv2\n",
    "import os\n",
    "from tensorflow.keras.models import Model\n",
    "from tensorflow.keras.preprocessing import image"
   ]
  },
  {
   "cell_type": "code",
   "execution_count": null,
   "metadata": {},
   "outputs": [],
   "source": [
    "# Função de pré-processamento para ResTS (usando Xception)\n",
    "def preprocess_for_ResTS(img_path, target_size=(224, 224)):\n",
    "    img = image.load_img(img_path, target_size=target_size)\n",
    "    img_array = image.img_to_array(img)\n",
    "    img_array = np.expand_dims(img_array, axis=0)\n",
    "    return tf.keras.applications.xception.preprocess_input(img_array)\n",
    "\n",
    "# Função de pré-processamento para EfficientNetB0\n",
    "def preprocess_for_EfficientNet(img_path, target_size=(224, 224)):\n",
    "    img = image.load_img(img_path, target_size=target_size)\n",
    "    img_array = image.img_to_array(img)\n",
    "    img_array = np.expand_dims(img_array, axis=0)\n",
    "    return tf.keras.applications.efficientnet.preprocess_input(img_array)\n"
   ]
  },
  {
   "cell_type": "code",
   "execution_count": null,
   "metadata": {},
   "outputs": [],
   "source": [
    "def load_and_preprocess_image(img_path, model_type=\"ResTS\"):\n",
    "    if model_type == \"ResTS\":\n",
    "        return preprocess_for_ResTS(img_path)\n",
    "    elif model_type == \"EfficientNetB0\":\n",
    "        return preprocess_for_EfficientNet(img_path)"
   ]
  },
  {
   "cell_type": "code",
   "execution_count": null,
   "metadata": {},
   "outputs": [],
   "source": [
    "# Carregar modelo ResTS\n",
    "ResTS_model = tf.keras.models.load_model('../models/ResTS_trained_model')\n",
    "\n",
    "# Carregar modelo EfficientNetB0 diretamente\n",
    "EfficientNetB0_model = tf.keras.models.load_model('../models/EfficientNetB0_trained_model.h5')"
   ]
  },
  {
   "cell_type": "code",
   "execution_count": null,
   "metadata": {},
   "outputs": [],
   "source": [
    "def compute_gradcam(model, img_array, layer_name, output_index=0):\n",
    "    grad_model = Model(inputs=[model.inputs], outputs=[model.get_layer(layer_name).output, model.output[output_index]])\n",
    "    \n",
    "    with tf.GradientTape() as tape:\n",
    "        conv_outputs, predictions = grad_model(img_array)\n",
    "        class_idx = np.argmax(predictions[0])\n",
    "        loss = predictions[:, class_idx]\n",
    "\n",
    "    grads = tape.gradient(loss, conv_outputs)[0]\n",
    "    pooled_grads = tf.reduce_mean(grads, axis=(0, 1, 2))\n",
    "    conv_outputs = conv_outputs[0]\n",
    "\n",
    "    cam = np.dot(conv_outputs, pooled_grads[..., tf.newaxis]).numpy()\n",
    "    cam = np.maximum(cam, 0)\n",
    "    cam = cv2.resize(cam, (img_array.shape[2], img_array.shape[1]))\n",
    "    cam = cam - np.min(cam)\n",
    "    cam = cam / np.max(cam)\n",
    "    return cam, class_idx"
   ]
  },
  {
   "cell_type": "code",
   "execution_count": null,
   "metadata": {},
   "outputs": [],
   "source": [
    "def overlay_gradcam(img_path, cam):\n",
    "    img = cv2.imread(img_path)\n",
    "    cam = cv2.applyColorMap(np.uint8(255 * cam), cv2.COLORMAP_JET)\n",
    "    cam = cv2.addWeighted(img, 0.5, cam, 0.5, 0)\n",
    "    return cam\n",
    "\n",
    "def display_gradcam(model, img_path, layer_name, model_type=\"ResTS\", output_index=0):\n",
    "    img_array = load_and_preprocess_image(img_path, model_type=model_type)\n",
    "    cam, class_idx = compute_gradcam(model, img_array, layer_name, output_index=output_index)\n",
    "    overlay_img = overlay_gradcam(img_path, cam)\n",
    "    plt.imshow(cv2.cvtColor(overlay_img, cv2.COLOR_BGR2RGB))\n",
    "    plt.axis('off')\n",
    "    plt.show()"
   ]
  },
  {
   "cell_type": "code",
   "execution_count": null,
   "metadata": {},
   "outputs": [],
   "source": [
    "# Caminho da imagem a ser testada\n",
    "img_path = 'path_to_test_image.jpg'\n",
    "\n",
    "# Grad-CAM para ResTeacher (primeira saída do ResTS)\n",
    "print(\"ResTeacher Grad-CAM:\")\n",
    "display_gradcam(ResTS_model, img_path, layer_name=\"block14_sepconv2_act\", model_type=\"ResTS\", output_index=0)\n",
    "\n",
    "# Grad-CAM para ResStudent (segunda saída do ResTS)\n",
    "print(\"ResStudent Grad-CAM:\")\n",
    "display_gradcam(ResTS_model, img_path, layer_name=\"block14_sepconv2_act\", model_type=\"ResTS\", output_index=1)\n",
    "\n",
    "# Grad-CAM para EfficientNetB0\n",
    "print(\"EfficientNetB0 Grad-CAM:\")\n",
    "display_gradcam(EfficientNetB0_model, img_path, layer_name=\"top_conv\", model_type=\"EfficientNetB0\")"
   ]
  }
 ],
 "metadata": {
  "kernelspec": {
   "display_name": ".venv",
   "language": "python",
   "name": "python3"
  },
  "language_info": {
   "codemirror_mode": {
    "name": "ipython",
    "version": 3
   },
   "file_extension": ".py",
   "mimetype": "text/x-python",
   "name": "python",
   "nbconvert_exporter": "python",
   "pygments_lexer": "ipython3",
   "version": "3.8.10"
  }
 },
 "nbformat": 4,
 "nbformat_minor": 2
}
