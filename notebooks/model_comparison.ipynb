{
 "cells": [
  {
   "cell_type": "markdown",
   "metadata": {},
   "source": [
    "# teste"
   ]
  },
  {
   "cell_type": "code",
   "execution_count": 1,
   "metadata": {},
   "outputs": [
    {
     "name": "stdout",
     "output_type": "stream",
     "text": [
      "TensorFlow version: 2.4.1\n",
      "GPU is available\n"
     ]
    }
   ],
   "source": [
    "import os\n",
    "import time\n",
    "import numpy as np\n",
    "import pandas as pd\n",
    "import seaborn as sns\n",
    "import tensorflow as tf\n",
    "import matplotlib.pyplot as plt\n",
    "from tensorflow.keras.models import Model\n",
    "from tensorflow.keras.optimizers import SGD\n",
    "from tensorflow.keras.layers import Flatten, Dense\n",
    "from tensorflow.keras.preprocessing.image import ImageDataGenerator\n",
    "from sklearn.metrics import classification_report, confusion_matrix, f1_score, accuracy_score\n",
    "\n",
    "# Configuração do dispositivo (verificar uso de GPU)\n",
    "print(\"TensorFlow version:\", tf.__version__)\n",
    "print(\"GPU is\", \"available\" if tf.config.list_physical_devices('GPU') else \"NOT AVAILABLE\")"
   ]
  },
  {
   "cell_type": "code",
   "execution_count": 2,
   "metadata": {},
   "outputs": [
    {
     "name": "stdout",
     "output_type": "stream",
     "text": [
      "Found 8179 images belonging to 38 classes.\n",
      "Found 8179 images belonging to 38 classes.\n"
     ]
    }
   ],
   "source": [
    "# Test data directory\n",
    "TEST_DIR = '../data/test'\n",
    "batch_size = 8\n",
    "input_shape = (224, 224, 3)\n",
    "\n",
    "# Define ImageDataGenerator for test set (no data augmentation, just preprocessing)\n",
    "test_datagen_resTS = ImageDataGenerator(preprocessing_function=tf.keras.applications.xception.preprocess_input)\n",
    "test_datagen_efficientnet = ImageDataGenerator(preprocessing_function=tf.keras.applications.efficientnet.preprocess_input)\n",
    "\n",
    "# Load test data\n",
    "test_generator_resTS = test_datagen_resTS.flow_from_directory(\n",
    "    TEST_DIR,\n",
    "    target_size=(224, 224),\n",
    "    batch_size=batch_size,\n",
    "    class_mode='categorical',\n",
    "    shuffle=False\n",
    ")\n",
    "\n",
    "test_generator_efficientnet = test_datagen_efficientnet.flow_from_directory(\n",
    "    TEST_DIR,\n",
    "    target_size=(224, 224),\n",
    "    batch_size=batch_size,\n",
    "    class_mode='categorical',\n",
    "    shuffle=False\n",
    ")"
   ]
  },
  {
   "cell_type": "code",
   "execution_count": 3,
   "metadata": {},
   "outputs": [],
   "source": [
    "# Load ResTS model\n",
    "ResTS_model = tf.keras.models.load_model('../models/ResTS_trained_model')\n",
    "\n",
    "# Load EfficientNet-B0 model and load saved weights\n",
    "EfficientNetB0_model = tf.keras.models.load_model('../models/EfficientNetB0_trained_model.h5')"
   ]
  },
  {
   "cell_type": "code",
   "execution_count": 4,
   "metadata": {},
   "outputs": [
    {
     "name": "stdout",
     "output_type": "stream",
     "text": [
      "\n",
      "Evaluating ResTS Model\n",
      "\n",
      "Evaluating EfficientNet-B0 Model\n"
     ]
    }
   ],
   "source": [
    "# Evaluation function for a dual-output model (ResTeacher and ResStudent)\n",
    "def evaluate_dual_output_model(model, generator):\n",
    "    start_time = time.time()\n",
    "    predictions = model.predict(generator, steps=len(generator))\n",
    "    end_time = time.time()\n",
    "\n",
    "    # Separate outputs for ResTeacher and ResStudent\n",
    "    y_pred_teacher = np.argmax(predictions[0], axis=1)\n",
    "    y_pred_student = np.argmax(predictions[1], axis=1)\n",
    "    y_true = generator.classes\n",
    "\n",
    "    # Evaluation Metrics for ResTeacher\n",
    "    accuracy_teacher = accuracy_score(y_true, y_pred_teacher)\n",
    "    f1_teacher = f1_score(y_true, y_pred_teacher, average='weighted')\n",
    "    \n",
    "    # Evaluation Metrics for ResStudent\n",
    "    accuracy_student = accuracy_score(y_true, y_pred_student)\n",
    "    f1_student = f1_score(y_true, y_pred_student, average='weighted')\n",
    "\n",
    "    processing_time = end_time - start_time\n",
    "\n",
    "    return {\n",
    "        \"ResTeacher\": (accuracy_teacher, f1_teacher),\n",
    "        \"ResStudent\": (accuracy_student, f1_student),\n",
    "        \"processing_time\": processing_time,\n",
    "        \"y_true\": y_true,\n",
    "        \"y_pred_teacher\": y_pred_teacher,\n",
    "        \"y_pred_student\": y_pred_student\n",
    "    }\n",
    "\n",
    "# Evaluation function for a single-output model (EfficientNet-B0)\n",
    "def evaluate_single_output_model(model, generator):\n",
    "    start_time = time.time()\n",
    "    predictions = model.predict(generator, steps=len(generator))\n",
    "    end_time = time.time()\n",
    "\n",
    "    y_pred = np.argmax(predictions, axis=1)\n",
    "    y_true = generator.classes\n",
    "\n",
    "    # Evaluation Metrics\n",
    "    accuracy = accuracy_score(y_true, y_pred)\n",
    "    f1 = f1_score(y_true, y_pred, average='weighted')\n",
    "\n",
    "    processing_time = end_time - start_time\n",
    "\n",
    "    return accuracy, f1, processing_time, y_true, y_pred\n",
    "\n",
    "# Evaluate ResTS model\n",
    "print(\"\\nEvaluating ResTS Model\")\n",
    "results_resTS = evaluate_dual_output_model(ResTS_model, test_generator_resTS)\n",
    "\n",
    "# Evaluate EfficientNet-B0 model\n",
    "print(\"\\nEvaluating EfficientNet-B0 Model\")\n",
    "eff_accuracy, eff_f1, eff_time, y_true, y_pred_eff = evaluate_single_output_model(EfficientNetB0_model, test_generator_efficientnet)"
   ]
  },
  {
   "cell_type": "code",
   "execution_count": 6,
   "metadata": {},
   "outputs": [
    {
     "name": "stdout",
     "output_type": "stream",
     "text": [
      "\n",
      "Summary of Evaluation Results\n",
      "            Model  Accuracy  F1 Score  Processing Time (s)\n",
      "0      ResTeacher  0.964177  0.963888           127.490549\n",
      "1      ResStudent  0.961731  0.961800           127.490549\n",
      "2  EfficientNetB0  0.954884  0.955838            29.412510\n"
     ]
    }
   ],
   "source": [
    "# Summary of the results:\n",
    "results_summary = pd.DataFrame({\n",
    "    \"Model\": [\"ResTeacher\", \"ResStudent\", \"EfficientNetB0\"],\n",
    "    \"Accuracy\": [results_resTS[\"ResTeacher\"][0], results_resTS[\"ResStudent\"][0], eff_accuracy],\n",
    "    \"F1 Score\": [results_resTS[\"ResTeacher\"][1], results_resTS[\"ResStudent\"][1], eff_f1],\n",
    "    \"Processing Time (s)\": [results_resTS[\"processing_time\"], results_resTS[\"processing_time\"], eff_time]\n",
    "})\n",
    "\n",
    "print(\"\\nSummary of Evaluation Results\")\n",
    "print(results_summary)"
   ]
  },
  {
   "cell_type": "code",
   "execution_count": null,
   "metadata": {},
   "outputs": [],
   "source": []
  }
 ],
 "metadata": {
  "kernelspec": {
   "display_name": ".venv",
   "language": "python",
   "name": "python3"
  },
  "language_info": {
   "codemirror_mode": {
    "name": "ipython",
    "version": 3
   },
   "file_extension": ".py",
   "mimetype": "text/x-python",
   "name": "python",
   "nbconvert_exporter": "python",
   "pygments_lexer": "ipython3",
   "version": "3.8.10"
  }
 },
 "nbformat": 4,
 "nbformat_minor": 2
}
